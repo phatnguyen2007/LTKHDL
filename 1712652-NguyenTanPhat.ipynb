{
 "cells": [
  {
   "cell_type": "markdown",
   "metadata": {},
   "source": [
    "Đồ Án Cuối Kì \n",
    "\n",
    "Họ và Tên: Nguyễn Tấn Phát\n",
    "\n",
    "MSSV: 1712652"
   ]
  },
  {
   "cell_type": "markdown",
   "metadata": {},
   "source": [
    "1.Lấy dữ liệu\n",
    "\n",
    "-Source:https://www.kaggle.com/gregorut/videogamesales\n",
    "\n",
    "-Tags-Title: games, video games\n",
    "\n",
    "-Tập dữ liệu này chứa danh sách các trò chơi điện tử có doanh số bán hàng lớn hơn 100.000 bản.\n",
    "\n",
    "-Nguồn dữ liệu:\n",
    "\n",
    " + Nó được tạo ra bởi một mẩu tin lưu niệm của vgchartz.com (vgchartzfull is a python script based on BeautifulSoup)\n",
    " \n",
    " + Dựa trên một tập lệnh python là BeautifulSoup để tạo ra một tập dữ liệu dựa trên dữ liệu từ http://www.vgchartz.com/gamedb/"
   ]
  },
  {
   "cell_type": "code",
   "execution_count": 1,
   "metadata": {},
   "outputs": [],
   "source": [
    "%matplotlib inline\n",
    "import matplotlib.pyplot as plt\n",
    "import pandas as pd\n",
    "import numpy as np\n",
    "import datetime"
   ]
  },
  {
   "cell_type": "markdown",
   "metadata": {},
   "source": [
    "2.Khám phá dữ liệu"
   ]
  },
  {
   "cell_type": "code",
   "execution_count": 2,
   "metadata": {},
   "outputs": [
    {
     "data": {
      "text/html": [
       "<div>\n",
       "<style scoped>\n",
       "    .dataframe tbody tr th:only-of-type {\n",
       "        vertical-align: middle;\n",
       "    }\n",
       "\n",
       "    .dataframe tbody tr th {\n",
       "        vertical-align: top;\n",
       "    }\n",
       "\n",
       "    .dataframe thead th {\n",
       "        text-align: right;\n",
       "    }\n",
       "</style>\n",
       "<table border=\"1\" class=\"dataframe\">\n",
       "  <thead>\n",
       "    <tr style=\"text-align: right;\">\n",
       "      <th></th>\n",
       "      <th>Rank</th>\n",
       "      <th>Name</th>\n",
       "      <th>Platform</th>\n",
       "      <th>Year</th>\n",
       "      <th>Genre</th>\n",
       "      <th>Publisher</th>\n",
       "      <th>NA_Sales</th>\n",
       "      <th>EU_Sales</th>\n",
       "      <th>JP_Sales</th>\n",
       "      <th>Other_Sales</th>\n",
       "      <th>Global_Sales</th>\n",
       "    </tr>\n",
       "  </thead>\n",
       "  <tbody>\n",
       "    <tr>\n",
       "      <th>16593</th>\n",
       "      <td>16596</td>\n",
       "      <td>Woody Woodpecker in Crazy Castle 5</td>\n",
       "      <td>GBA</td>\n",
       "      <td>2002.0</td>\n",
       "      <td>Platform</td>\n",
       "      <td>Kemco</td>\n",
       "      <td>0.01</td>\n",
       "      <td>0.00</td>\n",
       "      <td>0.0</td>\n",
       "      <td>0.0</td>\n",
       "      <td>0.01</td>\n",
       "    </tr>\n",
       "    <tr>\n",
       "      <th>16594</th>\n",
       "      <td>16597</td>\n",
       "      <td>Men in Black II: Alien Escape</td>\n",
       "      <td>GC</td>\n",
       "      <td>2003.0</td>\n",
       "      <td>Shooter</td>\n",
       "      <td>Infogrames</td>\n",
       "      <td>0.01</td>\n",
       "      <td>0.00</td>\n",
       "      <td>0.0</td>\n",
       "      <td>0.0</td>\n",
       "      <td>0.01</td>\n",
       "    </tr>\n",
       "    <tr>\n",
       "      <th>16595</th>\n",
       "      <td>16598</td>\n",
       "      <td>SCORE International Baja 1000: The Official Game</td>\n",
       "      <td>PS2</td>\n",
       "      <td>2008.0</td>\n",
       "      <td>Racing</td>\n",
       "      <td>Activision</td>\n",
       "      <td>0.00</td>\n",
       "      <td>0.00</td>\n",
       "      <td>0.0</td>\n",
       "      <td>0.0</td>\n",
       "      <td>0.01</td>\n",
       "    </tr>\n",
       "    <tr>\n",
       "      <th>16596</th>\n",
       "      <td>16599</td>\n",
       "      <td>Know How 2</td>\n",
       "      <td>DS</td>\n",
       "      <td>2010.0</td>\n",
       "      <td>Puzzle</td>\n",
       "      <td>7G//AMES</td>\n",
       "      <td>0.00</td>\n",
       "      <td>0.01</td>\n",
       "      <td>0.0</td>\n",
       "      <td>0.0</td>\n",
       "      <td>0.01</td>\n",
       "    </tr>\n",
       "    <tr>\n",
       "      <th>16597</th>\n",
       "      <td>16600</td>\n",
       "      <td>Spirits &amp; Spells</td>\n",
       "      <td>GBA</td>\n",
       "      <td>2003.0</td>\n",
       "      <td>Platform</td>\n",
       "      <td>Wanadoo</td>\n",
       "      <td>0.01</td>\n",
       "      <td>0.00</td>\n",
       "      <td>0.0</td>\n",
       "      <td>0.0</td>\n",
       "      <td>0.01</td>\n",
       "    </tr>\n",
       "  </tbody>\n",
       "</table>\n",
       "</div>"
      ],
      "text/plain": [
       "        Rank                                              Name Platform  \\\n",
       "16593  16596                Woody Woodpecker in Crazy Castle 5      GBA   \n",
       "16594  16597                     Men in Black II: Alien Escape       GC   \n",
       "16595  16598  SCORE International Baja 1000: The Official Game      PS2   \n",
       "16596  16599                                        Know How 2       DS   \n",
       "16597  16600                                  Spirits & Spells      GBA   \n",
       "\n",
       "         Year     Genre   Publisher  NA_Sales  EU_Sales  JP_Sales  \\\n",
       "16593  2002.0  Platform       Kemco      0.01      0.00       0.0   \n",
       "16594  2003.0   Shooter  Infogrames      0.01      0.00       0.0   \n",
       "16595  2008.0    Racing  Activision      0.00      0.00       0.0   \n",
       "16596  2010.0    Puzzle    7G//AMES      0.00      0.01       0.0   \n",
       "16597  2003.0  Platform     Wanadoo      0.01      0.00       0.0   \n",
       "\n",
       "       Other_Sales  Global_Sales  \n",
       "16593          0.0          0.01  \n",
       "16594          0.0          0.01  \n",
       "16595          0.0          0.01  \n",
       "16596          0.0          0.01  \n",
       "16597          0.0          0.01  "
      ]
     },
     "execution_count": 2,
     "metadata": {},
     "output_type": "execute_result"
    }
   ],
   "source": [
    "vgsales_df=pd.read_csv(\"vgsales.csv\")\n",
    "vgsales_df.tail(5)"
   ]
  },
  {
   "cell_type": "markdown",
   "metadata": {},
   "source": [
    "*Dữ liệu có bao nhiêu dòng và cột"
   ]
  },
  {
   "cell_type": "code",
   "execution_count": 3,
   "metadata": {},
   "outputs": [],
   "source": [
    "vgsales_row=vgsales_df.shape[0]\n",
    "vgsales_col=vgsales_df.shape[1]"
   ]
  },
  {
   "cell_type": "code",
   "execution_count": 4,
   "metadata": {},
   "outputs": [
    {
     "data": {
      "text/plain": [
       "16598"
      ]
     },
     "execution_count": 4,
     "metadata": {},
     "output_type": "execute_result"
    }
   ],
   "source": [
    "# Dữ liệu có 16598 dòng\n",
    "vgsales_row"
   ]
  },
  {
   "cell_type": "code",
   "execution_count": 5,
   "metadata": {},
   "outputs": [
    {
     "data": {
      "text/plain": [
       "11"
      ]
     },
     "execution_count": 5,
     "metadata": {},
     "output_type": "execute_result"
    }
   ],
   "source": [
    "#Dữ liệu có 11 cột\n",
    "vgsales_col"
   ]
  },
  {
   "cell_type": "markdown",
   "metadata": {},
   "source": [
    "*Thông tin về dữ liệu\n",
    "\n",
    "-Mỗi dòng là một đối tượng game\n",
    "\n",
    "-Mỗi cột là thông tin cụ thể về đối tượng:\n",
    "\n",
    " +Rank - Ranking of overall sales\n",
    " \n",
    " +Name - The games name\n",
    " \n",
    " +Platform - Platform of the games release (i.e. PC,PS4, etc.)\n",
    " \n",
    " +Year - Year of the game's release\n",
    " \n",
    " +Genre - Genre of the game\n",
    " \n",
    " +Publisher - Publisher of the game\n",
    " \n",
    " +NA_Sales - Sales in North America (in millions)\n",
    " \n",
    " +EU_Sales - Sales in Europe (in millions)\n",
    " \n",
    " +JP_Sales - Sales in Japan (in millions)\n",
    " \n",
    " +Other_Sales - Sales in the rest of the world (in millions)\n",
    " \n",
    " +Global_Sales - Total worldwide sales."
   ]
  },
  {
   "cell_type": "code",
   "execution_count": 6,
   "metadata": {},
   "outputs": [
    {
     "data": {
      "text/plain": [
       "Rank              int64\n",
       "Name             object\n",
       "Platform         object\n",
       "Year            float64\n",
       "Genre            object\n",
       "Publisher        object\n",
       "NA_Sales        float64\n",
       "EU_Sales        float64\n",
       "JP_Sales        float64\n",
       "Other_Sales     float64\n",
       "Global_Sales    float64\n",
       "dtype: object"
      ]
     },
     "execution_count": 6,
     "metadata": {},
     "output_type": "execute_result"
    }
   ],
   "source": [
    "#kiểu dữ liệu từng cột\n",
    "vgsales_df.dtypes"
   ]
  },
  {
   "cell_type": "code",
   "execution_count": 7,
   "metadata": {},
   "outputs": [
    {
     "data": {
      "text/plain": [
       "Rank              0\n",
       "Name              0\n",
       "Platform          0\n",
       "Year            271\n",
       "Genre             0\n",
       "Publisher        58\n",
       "NA_Sales          0\n",
       "EU_Sales          0\n",
       "JP_Sales          0\n",
       "Other_Sales       0\n",
       "Global_Sales      0\n",
       "dtype: int64"
      ]
     },
     "execution_count": 7,
     "metadata": {},
     "output_type": "execute_result"
    }
   ],
   "source": [
    "#cols có dữ liệu NAN\n",
    "#vgsales_df.columns\n",
    "temp1=[]\n",
    "for i in range(len(vgsales_df.columns)):\n",
    "    temp1.append(vgsales_df[vgsales_df.columns[i]].isnull().sum())\n",
    "col_nans_df=pd.Series(temp1,index=vgsales_df.columns)\n",
    "col_nans_df"
   ]
  },
  {
   "cell_type": "markdown",
   "metadata": {},
   "source": [
    "Dữ liệu có giá trị thiếu nhưng không bất thường lắm. Việc thiếu \"Year\" và \"Publisher\" chúng ta có thể tiếp nhận vì giữa các dòng không có quá nhiều liên hệ chặt chẽ kéo theo."
   ]
  },
  {
   "cell_type": "markdown",
   "metadata": {},
   "source": [
    "*Tìm hiểu rõ hơn về dữ liệu ở các cột dữ liệu kiểu numeric \"NA_Sales\",\"EU_Sales\",\"JP_Sales\",\"Other_Sales\",\"Global_Sales\"\n",
    "\n",
    " Ta sẽ tìm sales max và min của từng cột trên với các cột là \"NA_Sales\",\"EU_Sales\",\"JP_Sales\",\"Other_Sales\",\"Global_Sales\" và dòng là \"min\" và \"max\""
   ]
  },
  {
   "cell_type": "code",
   "execution_count": 8,
   "metadata": {},
   "outputs": [
    {
     "data": {
      "text/html": [
       "<div>\n",
       "<style scoped>\n",
       "    .dataframe tbody tr th:only-of-type {\n",
       "        vertical-align: middle;\n",
       "    }\n",
       "\n",
       "    .dataframe tbody tr th {\n",
       "        vertical-align: top;\n",
       "    }\n",
       "\n",
       "    .dataframe thead th {\n",
       "        text-align: right;\n",
       "    }\n",
       "</style>\n",
       "<table border=\"1\" class=\"dataframe\">\n",
       "  <thead>\n",
       "    <tr style=\"text-align: right;\">\n",
       "      <th></th>\n",
       "      <th>NA_Sales</th>\n",
       "      <th>EU_Sales</th>\n",
       "      <th>JP_Sales</th>\n",
       "      <th>Other_Sales</th>\n",
       "      <th>Global_Sales</th>\n",
       "    </tr>\n",
       "  </thead>\n",
       "  <tbody>\n",
       "    <tr>\n",
       "      <th>min</th>\n",
       "      <td>0.00</td>\n",
       "      <td>0.00</td>\n",
       "      <td>0.00</td>\n",
       "      <td>0.00</td>\n",
       "      <td>0.01</td>\n",
       "    </tr>\n",
       "    <tr>\n",
       "      <th>max</th>\n",
       "      <td>41.49</td>\n",
       "      <td>29.02</td>\n",
       "      <td>10.22</td>\n",
       "      <td>10.57</td>\n",
       "      <td>82.74</td>\n",
       "    </tr>\n",
       "  </tbody>\n",
       "</table>\n",
       "</div>"
      ],
      "text/plain": [
       "     NA_Sales  EU_Sales  JP_Sales  Other_Sales  Global_Sales\n",
       "min      0.00      0.00      0.00         0.00          0.01\n",
       "max     41.49     29.02     10.22        10.57         82.74"
      ]
     },
     "execution_count": 8,
     "metadata": {},
     "output_type": "execute_result"
    }
   ],
   "source": [
    "temp2=vgsales_df[[\"NA_Sales\",\"EU_Sales\",\"JP_Sales\",\"Other_Sales\",\"Global_Sales\"]]\n",
    "min_df=temp2.min()\n",
    "max_df=temp2.max()\n",
    "col_range_df=pd.DataFrame([min_df,max_df],index=['min','max'],columns=min_df.index)\n",
    "col_range_df"
   ]
  },
  {
   "cell_type": "markdown",
   "metadata": {},
   "source": [
    "*Tìm hiểu về dữ liệu categorical là \"Platform\",\"Genre\",\"Publisher\"\n",
    "\n",
    "Tìm số lượng giá trị khác nhau và tìm ra 3 giá trị đầu khi đã sort tăng dần với các cột là \"Platform\",\"Genre\",\"Publisher\" và các dòng là \"count_col\" và \"third_col\"\n",
    "\n",
    "PS: \"Name\" luôn khác nhau"
   ]
  },
  {
   "cell_type": "code",
   "execution_count": 9,
   "metadata": {},
   "outputs": [
    {
     "data": {
      "text/html": [
       "<div>\n",
       "<style scoped>\n",
       "    .dataframe tbody tr th:only-of-type {\n",
       "        vertical-align: middle;\n",
       "    }\n",
       "\n",
       "    .dataframe tbody tr th {\n",
       "        vertical-align: top;\n",
       "    }\n",
       "\n",
       "    .dataframe thead th {\n",
       "        text-align: right;\n",
       "    }\n",
       "</style>\n",
       "<table border=\"1\" class=\"dataframe\">\n",
       "  <thead>\n",
       "    <tr style=\"text-align: right;\">\n",
       "      <th></th>\n",
       "      <th>Platform</th>\n",
       "      <th>Genre</th>\n",
       "      <th>Publisher</th>\n",
       "    </tr>\n",
       "  </thead>\n",
       "  <tbody>\n",
       "    <tr>\n",
       "      <th>count_col</th>\n",
       "      <td>31</td>\n",
       "      <td>12</td>\n",
       "      <td>578</td>\n",
       "    </tr>\n",
       "    <tr>\n",
       "      <th>third_col</th>\n",
       "      <td>[2600, 3DO, 3DS]</td>\n",
       "      <td>[Action, Adventure, Fighting]</td>\n",
       "      <td>[10TACLE Studios, 1C Company, 20th Century Fox...</td>\n",
       "    </tr>\n",
       "  </tbody>\n",
       "</table>\n",
       "</div>"
      ],
      "text/plain": [
       "                   Platform                          Genre  \\\n",
       "count_col                31                             12   \n",
       "third_col  [2600, 3DO, 3DS]  [Action, Adventure, Fighting]   \n",
       "\n",
       "                                                   Publisher  \n",
       "count_col                                                578  \n",
       "third_col  [10TACLE Studios, 1C Company, 20th Century Fox...  "
      ]
     },
     "execution_count": 9,
     "metadata": {},
     "output_type": "execute_result"
    }
   ],
   "source": [
    "temp3=vgsales_df[[\"Platform\",\"Genre\",\"Publisher\"]]\n",
    "data1=[]\n",
    "data2=[]\n",
    "for i in range(len(temp3.columns)):\n",
    "    temp4=temp3.groupby(temp3[temp3.columns[i]]).size().reset_index(name='counts')\n",
    "    data1.append(temp4.shape[0])\n",
    "    temp5=[]\n",
    "    temp5.append(temp4.iloc[0,0])\n",
    "    temp5.append(temp4.iloc[1,0])\n",
    "    temp5.append(temp4.iloc[2,0])\n",
    "    data2.append(temp5)\n",
    "col_range_df1=pd.DataFrame([data1,data2],index=[\"count_col\",\"third_col\"],columns=temp3.columns)\n",
    "col_range_df1"
   ]
  },
  {
   "cell_type": "markdown",
   "metadata": {},
   "source": [
    "3.Đưa ra các câu hỏi cần trả lời"
   ]
  },
  {
   "cell_type": "markdown",
   "metadata": {},
   "source": [
    "Sau khi đã khám phá dữ liệu và hiểu hơn về dữ liệu, ta thấy có một số câu hỏi có thể được trả lời bằng dữ liệu:\n",
    "\n",
    "+Thể loại games/video games nào được sales: nhiều nhất và ít nhất?\n",
    "\n",
    "+Trong 3 năm gần nhất của dữ liệu \"Year\" thì Publisher nào được yêu thích hay có sales cao nhất?\n",
    "\n",
    "+Liệt kê top 3 nền tảng games/ video games nào có được sales nhiều qua các năm?\n",
    "\n",
    "+Trong 3 năm gần đây xu hướng của games/video games?"
   ]
  },
  {
   "cell_type": "markdown",
   "metadata": {},
   "source": [
    "4.Phân tích và giải quyết yêu cầu"
   ]
  },
  {
   "cell_type": "markdown",
   "metadata": {},
   "source": [
    "*Thể loại games/video games nào được sales: nhiều nhất và ít nhất?\n",
    "\n",
    "Bước 1: tính từng thể loại game với tổng sales rồi lưu vào number_salescount.\n",
    "\n",
    "Bước 2: Vẽ barchart. Chúng ta sẽ thấy được rõ ràng sales cao nhất và thấp nhất."
   ]
  },
  {
   "cell_type": "code",
   "execution_count": 10,
   "metadata": {},
   "outputs": [
    {
     "data": {
      "text/html": [
       "<div>\n",
       "<style scoped>\n",
       "    .dataframe tbody tr th:only-of-type {\n",
       "        vertical-align: middle;\n",
       "    }\n",
       "\n",
       "    .dataframe tbody tr th {\n",
       "        vertical-align: top;\n",
       "    }\n",
       "\n",
       "    .dataframe thead th {\n",
       "        text-align: right;\n",
       "    }\n",
       "</style>\n",
       "<table border=\"1\" class=\"dataframe\">\n",
       "  <thead>\n",
       "    <tr style=\"text-align: right;\">\n",
       "      <th></th>\n",
       "      <th>Global_Sales</th>\n",
       "    </tr>\n",
       "    <tr>\n",
       "      <th>Genre</th>\n",
       "      <th></th>\n",
       "    </tr>\n",
       "  </thead>\n",
       "  <tbody>\n",
       "    <tr>\n",
       "      <th>Action</th>\n",
       "      <td>3316</td>\n",
       "    </tr>\n",
       "    <tr>\n",
       "      <th>Adventure</th>\n",
       "      <td>1286</td>\n",
       "    </tr>\n",
       "    <tr>\n",
       "      <th>Fighting</th>\n",
       "      <td>848</td>\n",
       "    </tr>\n",
       "    <tr>\n",
       "      <th>Misc</th>\n",
       "      <td>1739</td>\n",
       "    </tr>\n",
       "    <tr>\n",
       "      <th>Platform</th>\n",
       "      <td>886</td>\n",
       "    </tr>\n",
       "    <tr>\n",
       "      <th>Puzzle</th>\n",
       "      <td>582</td>\n",
       "    </tr>\n",
       "    <tr>\n",
       "      <th>Racing</th>\n",
       "      <td>1249</td>\n",
       "    </tr>\n",
       "    <tr>\n",
       "      <th>Role-Playing</th>\n",
       "      <td>1488</td>\n",
       "    </tr>\n",
       "    <tr>\n",
       "      <th>Shooter</th>\n",
       "      <td>1310</td>\n",
       "    </tr>\n",
       "    <tr>\n",
       "      <th>Simulation</th>\n",
       "      <td>867</td>\n",
       "    </tr>\n",
       "    <tr>\n",
       "      <th>Sports</th>\n",
       "      <td>2346</td>\n",
       "    </tr>\n",
       "    <tr>\n",
       "      <th>Strategy</th>\n",
       "      <td>681</td>\n",
       "    </tr>\n",
       "  </tbody>\n",
       "</table>\n",
       "</div>"
      ],
      "text/plain": [
       "              Global_Sales\n",
       "Genre                     \n",
       "Action                3316\n",
       "Adventure             1286\n",
       "Fighting               848\n",
       "Misc                  1739\n",
       "Platform               886\n",
       "Puzzle                 582\n",
       "Racing                1249\n",
       "Role-Playing          1488\n",
       "Shooter               1310\n",
       "Simulation             867\n",
       "Sports                2346\n",
       "Strategy               681"
      ]
     },
     "execution_count": 10,
     "metadata": {},
     "output_type": "execute_result"
    }
   ],
   "source": [
    "temp6=vgsales_df[[\"Genre\",\"Global_Sales\"]]\n",
    "number_salescount=temp6.groupby(['Genre']).count()\n",
    "number_salescount"
   ]
  },
  {
   "cell_type": "code",
   "execution_count": 11,
   "metadata": {},
   "outputs": [
    {
     "data": {
      "text/plain": [
       "Text(0, 0.5, 'Genre')"
      ]
     },
     "execution_count": 11,
     "metadata": {},
     "output_type": "execute_result"
    },
    {
     "data": {
      "image/png": "[encoded data removed]",
      "text/plain": [
       "<Figure size 432x288 with 1 Axes>"
      ]
     },
     "metadata": {
      "needs_background": "light"
     },
     "output_type": "display_data"
    }
   ],
   "source": [
    "ax=number_salescount['Global_Sales'].values\n",
    "ay=number_salescount.index\n",
    "plt.barh(ay,ax)\n",
    "plt.xlabel(\"countSales\")\n",
    "plt.ylabel(\"Genre\")"
   ]
  },
  {
   "cell_type": "markdown",
   "metadata": {},
   "source": [
    "-Kết luận-\n",
    "\n",
    "Từ đồ thị trên thì ta có thể trả lời genre được sales nhiều nhất là \"Action\" và thấp nhất là \"Puzzle\". Hơn nữa ta còn biết được các vị trí sales thấp hơn, chẳng hạn như top2 sales là \"Sports\""
   ]
  },
  {
   "cell_type": "markdown",
   "metadata": {},
   "source": [
    "*Trong 3 năm gần nhất của dữ liệu \"Year\" thì Publisher nào được yêu thích hay có sales cao nhất?\n",
    "\n",
    "Bước 1: Lọc dữ liệu ra ba năm gần nhất rồi tính tổng Publisher sales lưu vào Publishercount_df\n",
    "\n",
    "Bước 2: Tìm sales cao nhất qua hàm max rồi lưu vào một list result_Publishersales"
   ]
  },
  {
   "cell_type": "code",
   "execution_count": 12,
   "metadata": {},
   "outputs": [
    {
     "data": {
      "text/plain": [
       "Publisher\n",
       "505 Games                                  7\n",
       "5pb                                        2\n",
       "Activision                                14\n",
       "Aksys Games                                2\n",
       "Alternative Software                       4\n",
       "                                          ..\n",
       "Ubisoft                                   14\n",
       "Unknown                                    4\n",
       "Warner Bros. Interactive Entertainment    14\n",
       "Yeti                                       1\n",
       "dramatic create                            2\n",
       "Length: 68, dtype: int64"
      ]
     },
     "execution_count": 12,
     "metadata": {},
     "output_type": "execute_result"
    }
   ],
   "source": [
    "temp7=vgsales_df[[\"Year\",\"Publisher\",\"Global_Sales\"]]\n",
    "temp8=temp7.groupby(['Year']).count()\n",
    "len_temp8=len(temp8.index)\n",
    "temp7=temp7.loc[(temp7['Year']<=temp8.index[len_temp8-1])&(temp7['Year']>=temp8.index[len_temp8-3])]\n",
    "temp7=temp7.groupby(['Publisher']).count()\n",
    "Publishercount_df=pd.Series(temp7['Global_Sales'].values,index=temp7.index)\n",
    "Publishercount_df"
   ]
  },
  {
   "cell_type": "code",
   "execution_count": 13,
   "metadata": {},
   "outputs": [
    {
     "data": {
      "text/plain": [
       "['Namco Bandai Games']"
      ]
     },
     "execution_count": 13,
     "metadata": {},
     "output_type": "execute_result"
    }
   ],
   "source": [
    "#cách 1\n",
    "result_Publishersales=[]\n",
    "temp_max=max(Publishercount_df.values)\n",
    "for i in range(len(Publishercount_df)):\n",
    "    if(Publishercount_df.values[i]==temp_max):\n",
    "        result_Publishersales.append(Publishercount_df.index[i])\n",
    "result_Publishersales  "
   ]
  },
  {
   "cell_type": "code",
   "execution_count": 14,
   "metadata": {},
   "outputs": [
    {
     "data": {
      "text/plain": [
       "['Namco Bandai Games']"
      ]
     },
     "execution_count": 14,
     "metadata": {},
     "output_type": "execute_result"
    }
   ],
   "source": [
    "#cách 2\n",
    "result_Publishersales1=[]\n",
    "Publishercount_df=Publishercount_df.sort_values(ascending=False)\n",
    "result_Publishersales1.append(Publishercount_df.index[0])\n",
    "result_Publishersales1"
   ]
  },
  {
   "cell_type": "markdown",
   "metadata": {},
   "source": [
    "-Kết luận-\n",
    "\n",
    " Publisher có sales cao nhất trong 3 năm gần nhất đó chính là Namco Bandai Games"
   ]
  },
  {
   "cell_type": "markdown",
   "metadata": {},
   "source": [
    "*Liệt kê top 3 nền tảng games/ video games nào có sales nhiều nhất qua các năm?\n",
    "\n",
    "Kết quả là một datafram với dòng là các nắm và 3 cột là top1,top2,top3"
   ]
  },
  {
   "cell_type": "code",
   "execution_count": 15,
   "metadata": {},
   "outputs": [],
   "source": [
    "#chỉnh sửa type year\n",
    "temp9=vgsales_df[[\"Year\",\"Platform\",\"Global_Sales\"]]\n",
    "temp9= temp9.dropna(axis=0, subset=['Year'])\n",
    "temp9['Year']=temp9['Year'].astype(int)\n",
    "tempyear=temp9.groupby(['Year']).count()\n",
    "len_tempy=len(tempyear.index)"
   ]
  },
  {
   "cell_type": "code",
   "execution_count": 16,
   "metadata": {},
   "outputs": [
    {
     "data": {
      "text/plain": [
       "['DS']"
      ]
     },
     "execution_count": 16,
     "metadata": {},
     "output_type": "execute_result"
    }
   ],
   "source": [
    "#vì năm không liên tuc nên làm riêng 2020\n",
    "temp_2020=[]\n",
    "temp9=temp9.groupby(['Year','Platform']).size().reset_index(name='counts')\n",
    "temp2020=temp9.loc[temp9['Year']==2020]\n",
    "temp2020=temp2020.sort_values(by='counts',ascending=False)\n",
    "temp_2020.append(temp2020['Platform'].values[0])\n",
    "temp_2020"
   ]
  },
  {
   "cell_type": "code",
   "execution_count": 17,
   "metadata": {},
   "outputs": [
    {
     "data": {
      "text/html": [
       "<div>\n",
       "<style scoped>\n",
       "    .dataframe tbody tr th:only-of-type {\n",
       "        vertical-align: middle;\n",
       "    }\n",
       "\n",
       "    .dataframe tbody tr th {\n",
       "        vertical-align: top;\n",
       "    }\n",
       "\n",
       "    .dataframe thead th {\n",
       "        text-align: right;\n",
       "    }\n",
       "</style>\n",
       "<table border=\"1\" class=\"dataframe\">\n",
       "  <thead>\n",
       "    <tr style=\"text-align: right;\">\n",
       "      <th></th>\n",
       "      <th>Top1</th>\n",
       "      <th>Top2</th>\n",
       "      <th>Top3</th>\n",
       "    </tr>\n",
       "  </thead>\n",
       "  <tbody>\n",
       "    <tr>\n",
       "      <th>1980</th>\n",
       "      <td>2600</td>\n",
       "      <td>None</td>\n",
       "      <td>None</td>\n",
       "    </tr>\n",
       "    <tr>\n",
       "      <th>1981</th>\n",
       "      <td>2600</td>\n",
       "      <td>None</td>\n",
       "      <td>None</td>\n",
       "    </tr>\n",
       "    <tr>\n",
       "      <th>1982</th>\n",
       "      <td>2600</td>\n",
       "      <td>None</td>\n",
       "      <td>None</td>\n",
       "    </tr>\n",
       "    <tr>\n",
       "      <th>1983</th>\n",
       "      <td>2600</td>\n",
       "      <td>NES</td>\n",
       "      <td>None</td>\n",
       "    </tr>\n",
       "    <tr>\n",
       "      <th>1984</th>\n",
       "      <td>NES</td>\n",
       "      <td>2600</td>\n",
       "      <td>None</td>\n",
       "    </tr>\n",
       "    <tr>\n",
       "      <th>1985</th>\n",
       "      <td>NES</td>\n",
       "      <td>2600</td>\n",
       "      <td>DS</td>\n",
       "    </tr>\n",
       "    <tr>\n",
       "      <th>1986</th>\n",
       "      <td>NES</td>\n",
       "      <td>2600</td>\n",
       "      <td>None</td>\n",
       "    </tr>\n",
       "    <tr>\n",
       "      <th>1987</th>\n",
       "      <td>NES</td>\n",
       "      <td>2600</td>\n",
       "      <td>None</td>\n",
       "    </tr>\n",
       "    <tr>\n",
       "      <th>1988</th>\n",
       "      <td>NES</td>\n",
       "      <td>2600</td>\n",
       "      <td>GB</td>\n",
       "    </tr>\n",
       "    <tr>\n",
       "      <th>1989</th>\n",
       "      <td>GB</td>\n",
       "      <td>NES</td>\n",
       "      <td>2600</td>\n",
       "    </tr>\n",
       "    <tr>\n",
       "      <th>1990</th>\n",
       "      <td>NES</td>\n",
       "      <td>SNES</td>\n",
       "      <td>GB</td>\n",
       "    </tr>\n",
       "    <tr>\n",
       "      <th>1991</th>\n",
       "      <td>SNES</td>\n",
       "      <td>GB</td>\n",
       "      <td>NES</td>\n",
       "    </tr>\n",
       "    <tr>\n",
       "      <th>1992</th>\n",
       "      <td>SNES</td>\n",
       "      <td>GB</td>\n",
       "      <td>GEN</td>\n",
       "    </tr>\n",
       "    <tr>\n",
       "      <th>1993</th>\n",
       "      <td>SNES</td>\n",
       "      <td>GEN</td>\n",
       "      <td>NES</td>\n",
       "    </tr>\n",
       "    <tr>\n",
       "      <th>1994</th>\n",
       "      <td>SNES</td>\n",
       "      <td>SAT</td>\n",
       "      <td>PS</td>\n",
       "    </tr>\n",
       "    <tr>\n",
       "      <th>1995</th>\n",
       "      <td>PS</td>\n",
       "      <td>SNES</td>\n",
       "      <td>SAT</td>\n",
       "    </tr>\n",
       "    <tr>\n",
       "      <th>1996</th>\n",
       "      <td>PS</td>\n",
       "      <td>SAT</td>\n",
       "      <td>SNES</td>\n",
       "    </tr>\n",
       "    <tr>\n",
       "      <th>1997</th>\n",
       "      <td>PS</td>\n",
       "      <td>N64</td>\n",
       "      <td>SAT</td>\n",
       "    </tr>\n",
       "    <tr>\n",
       "      <th>1998</th>\n",
       "      <td>PS</td>\n",
       "      <td>N64</td>\n",
       "      <td>SAT</td>\n",
       "    </tr>\n",
       "    <tr>\n",
       "      <th>1999</th>\n",
       "      <td>PS</td>\n",
       "      <td>N64</td>\n",
       "      <td>DC</td>\n",
       "    </tr>\n",
       "    <tr>\n",
       "      <th>2000</th>\n",
       "      <td>PS</td>\n",
       "      <td>PS2</td>\n",
       "      <td>N64</td>\n",
       "    </tr>\n",
       "    <tr>\n",
       "      <th>2001</th>\n",
       "      <td>PS2</td>\n",
       "      <td>GBA</td>\n",
       "      <td>PS</td>\n",
       "    </tr>\n",
       "    <tr>\n",
       "      <th>2002</th>\n",
       "      <td>PS2</td>\n",
       "      <td>GBA</td>\n",
       "      <td>XB</td>\n",
       "    </tr>\n",
       "    <tr>\n",
       "      <th>2003</th>\n",
       "      <td>PS2</td>\n",
       "      <td>XB</td>\n",
       "      <td>GBA</td>\n",
       "    </tr>\n",
       "    <tr>\n",
       "      <th>2004</th>\n",
       "      <td>PS2</td>\n",
       "      <td>XB</td>\n",
       "      <td>GBA</td>\n",
       "    </tr>\n",
       "    <tr>\n",
       "      <th>2005</th>\n",
       "      <td>PS2</td>\n",
       "      <td>XB</td>\n",
       "      <td>GBA</td>\n",
       "    </tr>\n",
       "    <tr>\n",
       "      <th>2006</th>\n",
       "      <td>PS2</td>\n",
       "      <td>DS</td>\n",
       "      <td>PSP</td>\n",
       "    </tr>\n",
       "    <tr>\n",
       "      <th>2007</th>\n",
       "      <td>DS</td>\n",
       "      <td>PS2</td>\n",
       "      <td>Wii</td>\n",
       "    </tr>\n",
       "    <tr>\n",
       "      <th>2008</th>\n",
       "      <td>DS</td>\n",
       "      <td>Wii</td>\n",
       "      <td>PS2</td>\n",
       "    </tr>\n",
       "    <tr>\n",
       "      <th>2009</th>\n",
       "      <td>DS</td>\n",
       "      <td>Wii</td>\n",
       "      <td>X360</td>\n",
       "    </tr>\n",
       "    <tr>\n",
       "      <th>2010</th>\n",
       "      <td>DS</td>\n",
       "      <td>Wii</td>\n",
       "      <td>PSP</td>\n",
       "    </tr>\n",
       "    <tr>\n",
       "      <th>2011</th>\n",
       "      <td>PS3</td>\n",
       "      <td>X360</td>\n",
       "      <td>DS</td>\n",
       "    </tr>\n",
       "    <tr>\n",
       "      <th>2012</th>\n",
       "      <td>PS3</td>\n",
       "      <td>PSP</td>\n",
       "      <td>X360</td>\n",
       "    </tr>\n",
       "    <tr>\n",
       "      <th>2013</th>\n",
       "      <td>PS3</td>\n",
       "      <td>3DS</td>\n",
       "      <td>X360</td>\n",
       "    </tr>\n",
       "    <tr>\n",
       "      <th>2014</th>\n",
       "      <td>PS3</td>\n",
       "      <td>PSV</td>\n",
       "      <td>3DS</td>\n",
       "    </tr>\n",
       "    <tr>\n",
       "      <th>2015</th>\n",
       "      <td>PS4</td>\n",
       "      <td>PSV</td>\n",
       "      <td>3DS</td>\n",
       "    </tr>\n",
       "    <tr>\n",
       "      <th>2016</th>\n",
       "      <td>PS4</td>\n",
       "      <td>PSV</td>\n",
       "      <td>XOne</td>\n",
       "    </tr>\n",
       "    <tr>\n",
       "      <th>2017</th>\n",
       "      <td>PSV</td>\n",
       "      <td>PS4</td>\n",
       "      <td>None</td>\n",
       "    </tr>\n",
       "    <tr>\n",
       "      <th>2020</th>\n",
       "      <td>DS</td>\n",
       "      <td>None</td>\n",
       "      <td>None</td>\n",
       "    </tr>\n",
       "  </tbody>\n",
       "</table>\n",
       "</div>"
      ],
      "text/plain": [
       "      Top1  Top2  Top3\n",
       "1980  2600  None  None\n",
       "1981  2600  None  None\n",
       "1982  2600  None  None\n",
       "1983  2600   NES  None\n",
       "1984   NES  2600  None\n",
       "1985   NES  2600    DS\n",
       "1986   NES  2600  None\n",
       "1987   NES  2600  None\n",
       "1988   NES  2600    GB\n",
       "1989    GB   NES  2600\n",
       "1990   NES  SNES    GB\n",
       "1991  SNES    GB   NES\n",
       "1992  SNES    GB   GEN\n",
       "1993  SNES   GEN   NES\n",
       "1994  SNES   SAT    PS\n",
       "1995    PS  SNES   SAT\n",
       "1996    PS   SAT  SNES\n",
       "1997    PS   N64   SAT\n",
       "1998    PS   N64   SAT\n",
       "1999    PS   N64    DC\n",
       "2000    PS   PS2   N64\n",
       "2001   PS2   GBA    PS\n",
       "2002   PS2   GBA    XB\n",
       "2003   PS2    XB   GBA\n",
       "2004   PS2    XB   GBA\n",
       "2005   PS2    XB   GBA\n",
       "2006   PS2    DS   PSP\n",
       "2007    DS   PS2   Wii\n",
       "2008    DS   Wii   PS2\n",
       "2009    DS   Wii  X360\n",
       "2010    DS   Wii   PSP\n",
       "2011   PS3  X360    DS\n",
       "2012   PS3   PSP  X360\n",
       "2013   PS3   3DS  X360\n",
       "2014   PS3   PSV   3DS\n",
       "2015   PS4   PSV   3DS\n",
       "2016   PS4   PSV  XOne\n",
       "2017   PSV   PS4  None\n",
       "2020    DS  None  None"
      ]
     },
     "execution_count": 17,
     "metadata": {},
     "output_type": "execute_result"
    }
   ],
   "source": [
    "#tiếp tục các năm còn lại\n",
    "temp_data=[]\n",
    "temp_index=[]\n",
    "for i in range(tempyear.index[0],tempyear.index[len_tempy-1],1):\n",
    "    temp10=[]\n",
    "    temp11=temp9.loc[temp9['Year']==i]\n",
    "    if(len(temp11)>2):\n",
    "        temp11=temp11.sort_values(by='counts',ascending=False)\n",
    "        temp10.append(temp11['Platform'].values[0])\n",
    "        temp10.append(temp11['Platform'].values[1])\n",
    "        temp10.append(temp11['Platform'].values[2])\n",
    "        temp_data.append(temp10)\n",
    "        temp_index.append(i)\n",
    "    elif(len(temp11)>1):\n",
    "        temp11=temp11.sort_values(by='counts',ascending=False)\n",
    "        temp10.append(temp11['Platform'].values[0])\n",
    "        temp10.append(temp11['Platform'].values[1])\n",
    "        temp_data.append(temp10)\n",
    "        temp_index.append(i)\n",
    "    elif(len(temp11)==1):\n",
    "        temp10.append(temp11['Platform'].values[0]) \n",
    "        temp_data.append(temp10)\n",
    "        temp_index.append(i)\n",
    "temp_data.append(temp_2020)\n",
    "temp_index.append(2020)\n",
    "temp_data\n",
    "Top_Platform=pd.DataFrame(temp_data,index=temp_index,columns=[\"Top1\",\"Top2\",\"Top3\"])\n",
    "Top_Platform"
   ]
  },
  {
   "cell_type": "markdown",
   "metadata": {},
   "source": [
    "-Kết luận-\n",
    "\n",
    "Ta có thể thấy được ban đầu thì nền tảng game hầu như chỉ có một là \"2600\". Nó chiếm đóng vị trí số 1 gần cả thập kỉ. Qua mỗi nắm nền tảng games thì xuất hiện rất nhiều nên cũng có nhiều sự biến đổi tuy nhiên vẫn thấy được nhiều nền tảng xuất sắc như \"DS\", \"DC\", \"3DS\"..."
   ]
  },
  {
   "cell_type": "markdown",
   "metadata": {},
   "source": [
    "*Trong 3 năm gần đây xu hướng của games/video games?\n",
    "\n",
    "Bước 1: Lọc dữ liệu của 3 năm gần nhất với xu hướng game.\n",
    "\n",
    "Bước 2: Sắp xếp tắng dần rồi lấy ra 3 vị trí đầu. Kết quả là một lits"
   ]
  },
  {
   "cell_type": "code",
   "execution_count": 18,
   "metadata": {},
   "outputs": [
    {
     "data": {
      "text/plain": [
       "['Action', 'Role-Playing', 'Sports']"
      ]
     },
     "execution_count": 18,
     "metadata": {},
     "output_type": "execute_result"
    }
   ],
   "source": [
    "#b1\n",
    "temp12=vgsales_df[[\"Year\",\"Genre\",\"Global_Sales\"]]\n",
    "temp13=temp12.groupby(['Year']).count()\n",
    "len_temp13=len(temp13.index)\n",
    "temp12=temp12.loc[(temp12['Year']<=temp13.index[len_temp13-1])&(temp12['Year']>=temp13.index[len_temp13-3])]\n",
    "temp12=temp12.groupby(['Genre']).count()\n",
    "#b2\n",
    "temp12=temp12.sort_values(by='Global_Sales',ascending=False)\n",
    "result_Genre3y=[]\n",
    "result_Genre3y.append(temp12.index[0])\n",
    "result_Genre3y.append(temp12.index[1])\n",
    "result_Genre3y.append(temp12.index[2])\n",
    "result_Genre3y"
   ]
  },
  {
   "cell_type": "markdown",
   "metadata": {},
   "source": [
    "-Kết luận-\n",
    "\n",
    "Ba năm gần đây thể loại game được yêu thích:\n",
    "\n",
    "-Top1: Action\n",
    "\n",
    "-Top2: Role-Playing\n",
    "\n",
    "-Top3: Sports"
   ]
  },
  {
   "cell_type": "markdown",
   "metadata": {},
   "source": [
    "5.\n",
    "\n",
    "Khó khăn:\n",
    "\n",
    "-Không thuộc những hàm có sẵn phải lên trang mạng tìm kiếm\n",
    "\n",
    "-Suy nghĩ ý tưởng câu hỏi và trả lời\n",
    "\n",
    "-Vẫn chưa quen với các phím tắt cơ bản \n",
    "\n",
    "Hữu ích:\n",
    "\n",
    "-Nắm bắt kiến thức hơn trước, nhớ được những hàm thông dụng, làm quen lại với viết code theo trình tự.\n",
    "\n",
    "****Cần trao dồi nhiều kiến thức nếu có thời gian"
   ]
  },
  {
   "cell_type": "markdown",
   "metadata": {},
   "source": [
    "6.\n",
    "\n",
    "https://pandas.pydata.org/pandas-docs/stable/reference/index.html\n",
    "\n",
    "https://matplotlib.org/3.3.1/api/_as_gen/matplotlib.pyplot.bar.html\n",
    "\n",
    "https://www.geeksforgeeks.org/python-programming-language/\n",
    "\n",
    "https://www.journaldev.com/33472/pandas-dataframe-from_dict-convert-dictionary-to-dataframe"
   ]
  }
 ],
 "metadata": {
  "kernelspec": {
   "display_name": "Python 3",
   "language": "python",
   "name": "python3"
  },
  "language_info": {
   "codemirror_mode": {
    "name": "ipython",
    "version": 3
   },
   "file_extension": ".py",
   "mimetype": "text/x-python",
   "name": "python",
   "nbconvert_exporter": "python",
   "pygments_lexer": "ipython3",
   "version": "3.7.6"
  }
 },
 "nbformat": 4,
 "nbformat_minor": 4
}
